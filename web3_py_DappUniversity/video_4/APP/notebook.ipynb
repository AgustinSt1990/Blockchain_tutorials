{
 "cells": [
  {
   "cell_type": "code",
   "execution_count": 1,
   "metadata": {},
   "outputs": [
    {
     "ename": "ValueError",
     "evalue": "Mixing dicts with non-Series may lead to ambiguous ordering.",
     "output_type": "error",
     "traceback": [
      "\u001b[1;31m---------------------------------------------------------------------------\u001b[0m",
      "\u001b[1;31mValueError\u001b[0m                                Traceback (most recent call last)",
      "\u001b[1;32mc:\\Users\\aguST\\repos\\Blockchain\\wb3_py_Dapp_Academy\\video_4\\APP\\notebook.ipynb Celda 1\u001b[0m in \u001b[0;36m<cell line: 7>\u001b[1;34m()\u001b[0m\n\u001b[0;32m      <a href='vscode-notebook-cell:/c%3A/Users/aguST/repos/Blockchain/wb3_py_Dapp_Academy/video_4/APP/notebook.ipynb#ch0000000?line=1'>2</a>\u001b[0m \u001b[39mimport\u001b[39;00m \u001b[39mpandas\u001b[39;00m \u001b[39mas\u001b[39;00m \u001b[39mpd\u001b[39;00m\n\u001b[0;32m      <a href='vscode-notebook-cell:/c%3A/Users/aguST/repos/Blockchain/wb3_py_Dapp_Academy/video_4/APP/notebook.ipynb#ch0000000?line=2'>3</a>\u001b[0m \u001b[39m#from web3 import Web3\u001b[39;00m\n\u001b[0;32m      <a href='vscode-notebook-cell:/c%3A/Users/aguST/repos/Blockchain/wb3_py_Dapp_Academy/video_4/APP/notebook.ipynb#ch0000000?line=3'>4</a>\u001b[0m \n\u001b[0;32m      <a href='vscode-notebook-cell:/c%3A/Users/aguST/repos/Blockchain/wb3_py_Dapp_Academy/video_4/APP/notebook.ipynb#ch0000000?line=4'>5</a>\u001b[0m \n\u001b[0;32m      <a href='vscode-notebook-cell:/c%3A/Users/aguST/repos/Blockchain/wb3_py_Dapp_Academy/video_4/APP/notebook.ipynb#ch0000000?line=5'>6</a>\u001b[0m \u001b[39m#file_location = r'C:\\Users\\aguST\\repos\\Blockchain\\wb3_py_Dapp_Academy\\video_4\\build\\contracts\\WelloWorld.json'\u001b[39;00m\n\u001b[1;32m----> <a href='vscode-notebook-cell:/c%3A/Users/aguST/repos/Blockchain/wb3_py_Dapp_Academy/video_4/APP/notebook.ipynb#ch0000000?line=6'>7</a>\u001b[0m migrated_contract \u001b[39m=\u001b[39m pd\u001b[39m.\u001b[39;49mread_json(\u001b[39m'\u001b[39;49m\u001b[39mHelloWorld_copy.json\u001b[39;49m\u001b[39m'\u001b[39;49m)\n",
      "File \u001b[1;32mc:\\Users\\aguST\\anaconda3\\envs\\dhdsblend2021\\lib\\site-packages\\pandas\\util\\_decorators.py:199\u001b[0m, in \u001b[0;36mdeprecate_kwarg.<locals>._deprecate_kwarg.<locals>.wrapper\u001b[1;34m(*args, **kwargs)\u001b[0m\n\u001b[0;32m    197\u001b[0m     \u001b[39melse\u001b[39;00m:\n\u001b[0;32m    198\u001b[0m         kwargs[new_arg_name] \u001b[39m=\u001b[39m new_arg_value\n\u001b[1;32m--> 199\u001b[0m \u001b[39mreturn\u001b[39;00m func(\u001b[39m*\u001b[39;49margs, \u001b[39m*\u001b[39;49m\u001b[39m*\u001b[39;49mkwargs)\n",
      "File \u001b[1;32mc:\\Users\\aguST\\anaconda3\\envs\\dhdsblend2021\\lib\\site-packages\\pandas\\util\\_decorators.py:296\u001b[0m, in \u001b[0;36mdeprecate_nonkeyword_arguments.<locals>.decorate.<locals>.wrapper\u001b[1;34m(*args, **kwargs)\u001b[0m\n\u001b[0;32m    291\u001b[0m     msg \u001b[39m=\u001b[39m (\n\u001b[0;32m    292\u001b[0m         \u001b[39mf\u001b[39m\u001b[39m\"\u001b[39m\u001b[39mStarting with Pandas version \u001b[39m\u001b[39m{\u001b[39;00mversion\u001b[39m}\u001b[39;00m\u001b[39m all arguments of \u001b[39m\u001b[39m\"\u001b[39m\n\u001b[0;32m    293\u001b[0m         \u001b[39mf\u001b[39m\u001b[39m\"\u001b[39m\u001b[39m{\u001b[39;00mfunc\u001b[39m.\u001b[39m\u001b[39m__name__\u001b[39m\u001b[39m}\u001b[39;00m\u001b[39m{\u001b[39;00marguments\u001b[39m}\u001b[39;00m\u001b[39m will be keyword-only\u001b[39m\u001b[39m\"\u001b[39m\n\u001b[0;32m    294\u001b[0m     )\n\u001b[0;32m    295\u001b[0m     warnings\u001b[39m.\u001b[39mwarn(msg, \u001b[39mFutureWarning\u001b[39;00m, stacklevel\u001b[39m=\u001b[39mstacklevel)\n\u001b[1;32m--> 296\u001b[0m \u001b[39mreturn\u001b[39;00m func(\u001b[39m*\u001b[39;49margs, \u001b[39m*\u001b[39;49m\u001b[39m*\u001b[39;49mkwargs)\n",
      "File \u001b[1;32mc:\\Users\\aguST\\anaconda3\\envs\\dhdsblend2021\\lib\\site-packages\\pandas\\io\\json\\_json.py:618\u001b[0m, in \u001b[0;36mread_json\u001b[1;34m(path_or_buf, orient, typ, dtype, convert_axes, convert_dates, keep_default_dates, numpy, precise_float, date_unit, encoding, lines, chunksize, compression, nrows)\u001b[0m\n\u001b[0;32m    615\u001b[0m \u001b[39mif\u001b[39;00m chunksize:\n\u001b[0;32m    616\u001b[0m     \u001b[39mreturn\u001b[39;00m json_reader\n\u001b[1;32m--> 618\u001b[0m result \u001b[39m=\u001b[39m json_reader\u001b[39m.\u001b[39;49mread()\n\u001b[0;32m    619\u001b[0m \u001b[39mif\u001b[39;00m should_close:\n\u001b[0;32m    620\u001b[0m     filepath_or_buffer\u001b[39m.\u001b[39mclose()\n",
      "File \u001b[1;32mc:\\Users\\aguST\\anaconda3\\envs\\dhdsblend2021\\lib\\site-packages\\pandas\\io\\json\\_json.py:755\u001b[0m, in \u001b[0;36mJsonReader.read\u001b[1;34m(self)\u001b[0m\n\u001b[0;32m    753\u001b[0m         obj \u001b[39m=\u001b[39m \u001b[39mself\u001b[39m\u001b[39m.\u001b[39m_get_object_parser(\u001b[39mself\u001b[39m\u001b[39m.\u001b[39m_combine_lines(data))\n\u001b[0;32m    754\u001b[0m \u001b[39melse\u001b[39;00m:\n\u001b[1;32m--> 755\u001b[0m     obj \u001b[39m=\u001b[39m \u001b[39mself\u001b[39;49m\u001b[39m.\u001b[39;49m_get_object_parser(\u001b[39mself\u001b[39;49m\u001b[39m.\u001b[39;49mdata)\n\u001b[0;32m    756\u001b[0m \u001b[39mself\u001b[39m\u001b[39m.\u001b[39mclose()\n\u001b[0;32m    757\u001b[0m \u001b[39mreturn\u001b[39;00m obj\n",
      "File \u001b[1;32mc:\\Users\\aguST\\anaconda3\\envs\\dhdsblend2021\\lib\\site-packages\\pandas\\io\\json\\_json.py:777\u001b[0m, in \u001b[0;36mJsonReader._get_object_parser\u001b[1;34m(self, json)\u001b[0m\n\u001b[0;32m    775\u001b[0m obj \u001b[39m=\u001b[39m \u001b[39mNone\u001b[39;00m\n\u001b[0;32m    776\u001b[0m \u001b[39mif\u001b[39;00m typ \u001b[39m==\u001b[39m \u001b[39m\"\u001b[39m\u001b[39mframe\u001b[39m\u001b[39m\"\u001b[39m:\n\u001b[1;32m--> 777\u001b[0m     obj \u001b[39m=\u001b[39m FrameParser(json, \u001b[39m*\u001b[39;49m\u001b[39m*\u001b[39;49mkwargs)\u001b[39m.\u001b[39;49mparse()\n\u001b[0;32m    779\u001b[0m \u001b[39mif\u001b[39;00m typ \u001b[39m==\u001b[39m \u001b[39m\"\u001b[39m\u001b[39mseries\u001b[39m\u001b[39m\"\u001b[39m \u001b[39mor\u001b[39;00m obj \u001b[39mis\u001b[39;00m \u001b[39mNone\u001b[39;00m:\n\u001b[0;32m    780\u001b[0m     \u001b[39mif\u001b[39;00m \u001b[39mnot\u001b[39;00m \u001b[39misinstance\u001b[39m(dtype, \u001b[39mbool\u001b[39m):\n",
      "File \u001b[1;32mc:\\Users\\aguST\\anaconda3\\envs\\dhdsblend2021\\lib\\site-packages\\pandas\\io\\json\\_json.py:886\u001b[0m, in \u001b[0;36mParser.parse\u001b[1;34m(self)\u001b[0m\n\u001b[0;32m    883\u001b[0m     \u001b[39mself\u001b[39m\u001b[39m.\u001b[39m_parse_numpy()\n\u001b[0;32m    885\u001b[0m \u001b[39melse\u001b[39;00m:\n\u001b[1;32m--> 886\u001b[0m     \u001b[39mself\u001b[39;49m\u001b[39m.\u001b[39;49m_parse_no_numpy()\n\u001b[0;32m    888\u001b[0m \u001b[39mif\u001b[39;00m \u001b[39mself\u001b[39m\u001b[39m.\u001b[39mobj \u001b[39mis\u001b[39;00m \u001b[39mNone\u001b[39;00m:\n\u001b[0;32m    889\u001b[0m     \u001b[39mreturn\u001b[39;00m \u001b[39mNone\u001b[39;00m\n",
      "File \u001b[1;32mc:\\Users\\aguST\\anaconda3\\envs\\dhdsblend2021\\lib\\site-packages\\pandas\\io\\json\\_json.py:1118\u001b[0m, in \u001b[0;36mFrameParser._parse_no_numpy\u001b[1;34m(self)\u001b[0m\n\u001b[0;32m   1115\u001b[0m orient \u001b[39m=\u001b[39m \u001b[39mself\u001b[39m\u001b[39m.\u001b[39morient\n\u001b[0;32m   1117\u001b[0m \u001b[39mif\u001b[39;00m orient \u001b[39m==\u001b[39m \u001b[39m\"\u001b[39m\u001b[39mcolumns\u001b[39m\u001b[39m\"\u001b[39m:\n\u001b[1;32m-> 1118\u001b[0m     \u001b[39mself\u001b[39m\u001b[39m.\u001b[39mobj \u001b[39m=\u001b[39m DataFrame(\n\u001b[0;32m   1119\u001b[0m         loads(json, precise_float\u001b[39m=\u001b[39;49m\u001b[39mself\u001b[39;49m\u001b[39m.\u001b[39;49mprecise_float), dtype\u001b[39m=\u001b[39;49m\u001b[39mNone\u001b[39;49;00m\n\u001b[0;32m   1120\u001b[0m     )\n\u001b[0;32m   1121\u001b[0m \u001b[39melif\u001b[39;00m orient \u001b[39m==\u001b[39m \u001b[39m\"\u001b[39m\u001b[39msplit\u001b[39m\u001b[39m\"\u001b[39m:\n\u001b[0;32m   1122\u001b[0m     decoded \u001b[39m=\u001b[39m {\n\u001b[0;32m   1123\u001b[0m         \u001b[39mstr\u001b[39m(k): v\n\u001b[0;32m   1124\u001b[0m         \u001b[39mfor\u001b[39;00m k, v \u001b[39min\u001b[39;00m loads(json, precise_float\u001b[39m=\u001b[39m\u001b[39mself\u001b[39m\u001b[39m.\u001b[39mprecise_float)\u001b[39m.\u001b[39mitems()\n\u001b[0;32m   1125\u001b[0m     }\n",
      "File \u001b[1;32mc:\\Users\\aguST\\anaconda3\\envs\\dhdsblend2021\\lib\\site-packages\\pandas\\core\\frame.py:468\u001b[0m, in \u001b[0;36mDataFrame.__init__\u001b[1;34m(self, data, index, columns, dtype, copy)\u001b[0m\n\u001b[0;32m    463\u001b[0m     mgr \u001b[39m=\u001b[39m \u001b[39mself\u001b[39m\u001b[39m.\u001b[39m_init_mgr(\n\u001b[0;32m    464\u001b[0m         data, axes\u001b[39m=\u001b[39m\u001b[39mdict\u001b[39m(index\u001b[39m=\u001b[39mindex, columns\u001b[39m=\u001b[39mcolumns), dtype\u001b[39m=\u001b[39mdtype, copy\u001b[39m=\u001b[39mcopy\n\u001b[0;32m    465\u001b[0m     )\n\u001b[0;32m    467\u001b[0m \u001b[39melif\u001b[39;00m \u001b[39misinstance\u001b[39m(data, \u001b[39mdict\u001b[39m):\n\u001b[1;32m--> 468\u001b[0m     mgr \u001b[39m=\u001b[39m init_dict(data, index, columns, dtype\u001b[39m=\u001b[39;49mdtype)\n\u001b[0;32m    469\u001b[0m \u001b[39melif\u001b[39;00m \u001b[39misinstance\u001b[39m(data, ma\u001b[39m.\u001b[39mMaskedArray):\n\u001b[0;32m    470\u001b[0m     \u001b[39mimport\u001b[39;00m \u001b[39mnumpy\u001b[39;00m\u001b[39m.\u001b[39;00m\u001b[39mma\u001b[39;00m\u001b[39m.\u001b[39;00m\u001b[39mmrecords\u001b[39;00m \u001b[39mas\u001b[39;00m \u001b[39mmrecords\u001b[39;00m\n",
      "File \u001b[1;32mc:\\Users\\aguST\\anaconda3\\envs\\dhdsblend2021\\lib\\site-packages\\pandas\\core\\internals\\construction.py:283\u001b[0m, in \u001b[0;36minit_dict\u001b[1;34m(data, index, columns, dtype)\u001b[0m\n\u001b[0;32m    277\u001b[0m     arrays \u001b[39m=\u001b[39m [\n\u001b[0;32m    278\u001b[0m         arr \u001b[39mif\u001b[39;00m \u001b[39mnot\u001b[39;00m \u001b[39misinstance\u001b[39m(arr, ABCIndexClass) \u001b[39melse\u001b[39;00m arr\u001b[39m.\u001b[39m_data \u001b[39mfor\u001b[39;00m arr \u001b[39min\u001b[39;00m arrays\n\u001b[0;32m    279\u001b[0m     ]\n\u001b[0;32m    280\u001b[0m     arrays \u001b[39m=\u001b[39m [\n\u001b[0;32m    281\u001b[0m         arr \u001b[39mif\u001b[39;00m \u001b[39mnot\u001b[39;00m is_datetime64tz_dtype(arr) \u001b[39melse\u001b[39;00m arr\u001b[39m.\u001b[39mcopy() \u001b[39mfor\u001b[39;00m arr \u001b[39min\u001b[39;00m arrays\n\u001b[0;32m    282\u001b[0m     ]\n\u001b[1;32m--> 283\u001b[0m \u001b[39mreturn\u001b[39;00m arrays_to_mgr(arrays, data_names, index, columns, dtype\u001b[39m=\u001b[39;49mdtype)\n",
      "File \u001b[1;32mc:\\Users\\aguST\\anaconda3\\envs\\dhdsblend2021\\lib\\site-packages\\pandas\\core\\internals\\construction.py:78\u001b[0m, in \u001b[0;36marrays_to_mgr\u001b[1;34m(arrays, arr_names, index, columns, dtype, verify_integrity)\u001b[0m\n\u001b[0;32m     75\u001b[0m \u001b[39mif\u001b[39;00m verify_integrity:\n\u001b[0;32m     76\u001b[0m     \u001b[39m# figure out the index, if necessary\u001b[39;00m\n\u001b[0;32m     77\u001b[0m     \u001b[39mif\u001b[39;00m index \u001b[39mis\u001b[39;00m \u001b[39mNone\u001b[39;00m:\n\u001b[1;32m---> 78\u001b[0m         index \u001b[39m=\u001b[39m extract_index(arrays)\n\u001b[0;32m     79\u001b[0m     \u001b[39melse\u001b[39;00m:\n\u001b[0;32m     80\u001b[0m         index \u001b[39m=\u001b[39m ensure_index(index)\n",
      "File \u001b[1;32mc:\\Users\\aguST\\anaconda3\\envs\\dhdsblend2021\\lib\\site-packages\\pandas\\core\\internals\\construction.py:400\u001b[0m, in \u001b[0;36mextract_index\u001b[1;34m(data)\u001b[0m\n\u001b[0;32m    397\u001b[0m     \u001b[39mraise\u001b[39;00m \u001b[39mValueError\u001b[39;00m(\u001b[39m\"\u001b[39m\u001b[39marrays must all be same length\u001b[39m\u001b[39m\"\u001b[39m)\n\u001b[0;32m    399\u001b[0m \u001b[39mif\u001b[39;00m have_dicts:\n\u001b[1;32m--> 400\u001b[0m     \u001b[39mraise\u001b[39;00m \u001b[39mValueError\u001b[39;00m(\n\u001b[0;32m    401\u001b[0m         \u001b[39m\"\u001b[39m\u001b[39mMixing dicts with non-Series may lead to ambiguous ordering.\u001b[39m\u001b[39m\"\u001b[39m\n\u001b[0;32m    402\u001b[0m     )\n\u001b[0;32m    404\u001b[0m \u001b[39mif\u001b[39;00m have_series:\n\u001b[0;32m    405\u001b[0m     \u001b[39massert\u001b[39;00m index \u001b[39mis\u001b[39;00m \u001b[39mnot\u001b[39;00m \u001b[39mNone\u001b[39;00m  \u001b[39m# for mypy\u001b[39;00m\n",
      "\u001b[1;31mValueError\u001b[0m: Mixing dicts with non-Series may lead to ambiguous ordering."
     ]
    }
   ],
   "source": [
    "import json\n",
    "import pandas as pd\n",
    "#from web3 import Web3\n",
    "\n",
    "\n",
    "#file_location = r'C:\\Users\\aguST\\repos\\Blockchain\\wb3_py_Dapp_Academy\\video_4\\build\\contracts\\WelloWorld.json'\n",
    "migrated_contract = pd.read_json('HelloWorld_copy.json')\n"
   ]
  },
  {
   "cell_type": "code",
   "execution_count": 2,
   "metadata": {},
   "outputs": [
    {
     "data": {
      "text/html": [
       "<div>\n",
       "<style scoped>\n",
       "    .dataframe tbody tr th:only-of-type {\n",
       "        vertical-align: middle;\n",
       "    }\n",
       "\n",
       "    .dataframe tbody tr th {\n",
       "        vertical-align: top;\n",
       "    }\n",
       "\n",
       "    .dataframe thead th {\n",
       "        text-align: right;\n",
       "    }\n",
       "</style>\n",
       "<table border=\"1\" class=\"dataframe\">\n",
       "  <thead>\n",
       "    <tr style=\"text-align: right;\">\n",
       "      <th></th>\n",
       "      <th>0</th>\n",
       "    </tr>\n",
       "  </thead>\n",
       "  <tbody>\n",
       "    <tr>\n",
       "      <th>0</th>\n",
       "      <td>1</td>\n",
       "    </tr>\n",
       "    <tr>\n",
       "      <th>1</th>\n",
       "      <td>2</td>\n",
       "    </tr>\n",
       "    <tr>\n",
       "      <th>2</th>\n",
       "      <td>3</td>\n",
       "    </tr>\n",
       "  </tbody>\n",
       "</table>\n",
       "</div>"
      ],
      "text/plain": [
       "   0\n",
       "0  1\n",
       "1  2\n",
       "2  3"
      ]
     },
     "execution_count": 2,
     "metadata": {},
     "output_type": "execute_result"
    }
   ],
   "source": [
    "df"
   ]
  }
 ],
 "metadata": {
  "kernelspec": {
   "display_name": "Python 3.8.13 ('dhdsblend2021')",
   "language": "python",
   "name": "python3"
  },
  "language_info": {
   "codemirror_mode": {
    "name": "ipython",
    "version": 3
   },
   "file_extension": ".py",
   "mimetype": "text/x-python",
   "name": "python",
   "nbconvert_exporter": "python",
   "pygments_lexer": "ipython3",
   "version": "3.8.13"
  },
  "orig_nbformat": 4,
  "vscode": {
   "interpreter": {
    "hash": "6632a729c69d661a9fa4f8dbfbf8d4d755e05a6bbecde3a7c3c91d4a35814eb6"
   }
  }
 },
 "nbformat": 4,
 "nbformat_minor": 2
}
